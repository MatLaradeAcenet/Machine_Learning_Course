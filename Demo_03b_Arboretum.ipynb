{
 "cells": [
  {
   "cell_type": "markdown",
   "metadata": {},
   "source": [
    "We will be"
   ]
  },
  {
   "cell_type": "code",
   "execution_count": 7,
   "metadata": {},
   "outputs": [],
   "source": [
    "from sklearn.datasets import load_iris\n",
    "from sklearn import tree\n",
    "from sklearn.model_selection import train_test_split\n",
    "iris_attributes, iris_classes = load_iris(return_X_y=True)\n",
    "attributes_train, attributes_test, classes_train, classes_test = train_test_split(iris_attributes, iris_classes, test_size=0.2, random_state=50)"
   ]
  },
  {
   "cell_type": "code",
   "execution_count": 8,
   "metadata": {},
   "outputs": [
    {
     "name": "stdout",
     "output_type": "stream",
     "text": [
      "Wall time: 2 ms\n"
     ]
    }
   ],
   "source": [
    "%%time\n",
    "Tree1 = tree.DecisionTreeClassifier()\n",
    "Tree1 = Tree1.fit(attributes_train, classes_train)"
   ]
  },
  {
   "cell_type": "code",
   "execution_count": 9,
   "metadata": {},
   "outputs": [
    {
     "name": "stdout",
     "output_type": "stream",
     "text": [
      "Tree0\n",
      "Tree1\n",
      "Tree2\n",
      "Tree3\n",
      "Tree4\n",
      "Tree5\n",
      "Tree6\n",
      "Tree7\n",
      "Tree8\n",
      "Tree9\n",
      "Tree10\n",
      "Tree11\n",
      "Tree12\n",
      "Tree13\n",
      "Tree14\n",
      "Tree15\n",
      "Tree16\n",
      "Tree17\n",
      "Tree18\n",
      "Tree19\n",
      "Tree20\n",
      "Tree21\n",
      "Tree22\n",
      "Tree23\n",
      "Tree24\n",
      "Tree25\n",
      "Tree26\n",
      "Tree27\n",
      "Tree28\n",
      "Tree29\n",
      "Tree30\n",
      "Tree31\n",
      "Tree32\n",
      "Tree33\n",
      "Tree34\n",
      "Tree35\n",
      "Tree36\n",
      "Tree37\n",
      "Tree38\n",
      "Tree39\n",
      "Tree40\n",
      "Tree41\n",
      "Tree42\n",
      "Tree43\n",
      "Tree44\n",
      "Tree45\n",
      "Tree46\n",
      "Tree47\n",
      "Tree48\n",
      "Tree49\n",
      "Tree50\n",
      "Wall time: 999 µs\n"
     ]
    }
   ],
   "source": [
    "%%time\n",
    "forest = {}\n",
    "for i in range(0,51):\n",
    "    tree_name = \"Tree\" + str(i)\n",
    "    print(tree_name)\n",
    "    forest[tree_name] = tree.DecisionTreeClassifier()"
   ]
  },
  {
   "cell_type": "code",
   "execution_count": 10,
   "metadata": {},
   "outputs": [],
   "source": [
    "arboreum = forest.copy()"
   ]
  },
  {
   "cell_type": "code",
   "execution_count": 11,
   "metadata": {
    "scrolled": true
   },
   "outputs": [
    {
     "name": "stdout",
     "output_type": "stream",
     "text": [
      "Wall time: 19 ms\n"
     ]
    }
   ],
   "source": [
    "%%time\n",
    "\n",
    "for tree in forest:\n",
    "    forest[tree].fit(attributes_train, classes_train)"
   ]
  },
  {
   "cell_type": "code",
   "execution_count": 12,
   "metadata": {},
   "outputs": [
    {
     "name": "stderr",
     "output_type": "stream",
     "text": [
      "C:\\Users\\Admin\\Anaconda3\\lib\\site-packages\\sklearn\\externals\\joblib\\__init__.py:15: DeprecationWarning: sklearn.externals.joblib is deprecated in 0.21 and will be removed in 0.23. Please import this functionality directly from joblib, which can be installed with: pip install joblib. If this warning is raised when loading pickled models, you may need to re-serialize those models with scikit-learn 0.21+.\n",
      "  warnings.warn(msg, category=DeprecationWarning)\n"
     ]
    }
   ],
   "source": [
    "import joblib\n",
    "from sklearn.externals.joblib import parallel_backend"
   ]
  },
  {
   "cell_type": "code",
   "execution_count": 13,
   "metadata": {},
   "outputs": [
    {
     "name": "stdout",
     "output_type": "stream",
     "text": [
      "Wall time: 68 ms\n"
     ]
    }
   ],
   "source": [
    "%%time\n",
    "with parallel_backend('dask'):\n",
    "    for tree in arboreum:\n",
    "        arboreum[tree].fit(attributes_train, classes_train)"
   ]
  },
  {
   "cell_type": "code",
   "execution_count": null,
   "metadata": {},
   "outputs": [],
   "source": []
  }
 ],
 "metadata": {
  "kernelspec": {
   "display_name": "Python 3",
   "language": "python",
   "name": "python3"
  },
  "language_info": {
   "codemirror_mode": {
    "name": "ipython",
    "version": 3
   },
   "file_extension": ".py",
   "mimetype": "text/x-python",
   "name": "python",
   "nbconvert_exporter": "python",
   "pygments_lexer": "ipython3",
   "version": "3.7.3"
  }
 },
 "nbformat": 4,
 "nbformat_minor": 2
}
