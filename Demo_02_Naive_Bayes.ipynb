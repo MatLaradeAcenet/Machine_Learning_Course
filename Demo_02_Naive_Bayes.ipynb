{
 "cells": [
  {
   "cell_type": "markdown",
   "metadata": {},
   "source": [
    "# Naive Bayes Classification\n",
    "\n",
    "This notebook takes what we learned in Train Test Split, and applies it to Naieve Bayes Classification, a probabalistic classifier"
   ]
  },
  {
   "cell_type": "code",
   "execution_count": 2,
   "metadata": {},
   "outputs": [],
   "source": [
    "from sklearn.datasets import load_iris\n",
    "from sklearn.naive_bayes import GaussianNB\n",
    "from sklearn.model_selection import train_test_split"
   ]
  },
  {
   "cell_type": "markdown",
   "metadata": {},
   "source": [
    "This line loads in the dataset, and assigns it to two different variables"
   ]
  },
  {
   "cell_type": "code",
   "execution_count": 3,
   "metadata": {},
   "outputs": [
    {
     "name": "stdout",
     "output_type": "stream",
     "text": [
      "Help on GaussianNB in module sklearn.naive_bayes object:\n",
      "\n",
      "class GaussianNB(BaseNB)\n",
      " |  GaussianNB(priors=None, var_smoothing=1e-09)\n",
      " |  \n",
      " |  Gaussian Naive Bayes (GaussianNB)\n",
      " |  \n",
      " |  Can perform online updates to model parameters via `partial_fit` method.\n",
      " |  For details on algorithm used to update feature means and variance online,\n",
      " |  see Stanford CS tech report STAN-CS-79-773 by Chan, Golub, and LeVeque:\n",
      " |  \n",
      " |      http://i.stanford.edu/pub/cstr/reports/cs/tr/79/773/CS-TR-79-773.pdf\n",
      " |  \n",
      " |  Read more in the :ref:`User Guide <gaussian_naive_bayes>`.\n",
      " |  \n",
      " |  Parameters\n",
      " |  ----------\n",
      " |  priors : array-like, shape (n_classes,)\n",
      " |      Prior probabilities of the classes. If specified the priors are not\n",
      " |      adjusted according to the data.\n",
      " |  \n",
      " |  var_smoothing : float, optional (default=1e-9)\n",
      " |      Portion of the largest variance of all features that is added to\n",
      " |      variances for calculation stability.\n",
      " |  \n",
      " |  Attributes\n",
      " |  ----------\n",
      " |  class_prior_ : array, shape (n_classes,)\n",
      " |      probability of each class.\n",
      " |  \n",
      " |  class_count_ : array, shape (n_classes,)\n",
      " |      number of training samples observed in each class.\n",
      " |  \n",
      " |  theta_ : array, shape (n_classes, n_features)\n",
      " |      mean of each feature per class\n",
      " |  \n",
      " |  sigma_ : array, shape (n_classes, n_features)\n",
      " |      variance of each feature per class\n",
      " |  \n",
      " |  epsilon_ : float\n",
      " |      absolute additive value to variances\n",
      " |  \n",
      " |  Examples\n",
      " |  --------\n",
      " |  >>> import numpy as np\n",
      " |  >>> X = np.array([[-1, -1], [-2, -1], [-3, -2], [1, 1], [2, 1], [3, 2]])\n",
      " |  >>> Y = np.array([1, 1, 1, 2, 2, 2])\n",
      " |  >>> from sklearn.naive_bayes import GaussianNB\n",
      " |  >>> clf = GaussianNB()\n",
      " |  >>> clf.fit(X, Y)\n",
      " |  GaussianNB(priors=None, var_smoothing=1e-09)\n",
      " |  >>> print(clf.predict([[-0.8, -1]]))\n",
      " |  [1]\n",
      " |  >>> clf_pf = GaussianNB()\n",
      " |  >>> clf_pf.partial_fit(X, Y, np.unique(Y))\n",
      " |  GaussianNB(priors=None, var_smoothing=1e-09)\n",
      " |  >>> print(clf_pf.predict([[-0.8, -1]]))\n",
      " |  [1]\n",
      " |  \n",
      " |  Method resolution order:\n",
      " |      GaussianNB\n",
      " |      BaseNB\n",
      " |      sklearn.base.BaseEstimator\n",
      " |      sklearn.base.ClassifierMixin\n",
      " |      builtins.object\n",
      " |  \n",
      " |  Methods defined here:\n",
      " |  \n",
      " |  __init__(self, priors=None, var_smoothing=1e-09)\n",
      " |      Initialize self.  See help(type(self)) for accurate signature.\n",
      " |  \n",
      " |  fit(self, X, y, sample_weight=None)\n",
      " |      Fit Gaussian Naive Bayes according to X, y\n",
      " |      \n",
      " |      Parameters\n",
      " |      ----------\n",
      " |      X : array-like, shape (n_samples, n_features)\n",
      " |          Training vectors, where n_samples is the number of samples\n",
      " |          and n_features is the number of features.\n",
      " |      \n",
      " |      y : array-like, shape (n_samples,)\n",
      " |          Target values.\n",
      " |      \n",
      " |      sample_weight : array-like, shape (n_samples,), optional (default=None)\n",
      " |          Weights applied to individual samples (1. for unweighted).\n",
      " |      \n",
      " |          .. versionadded:: 0.17\n",
      " |             Gaussian Naive Bayes supports fitting with *sample_weight*.\n",
      " |      \n",
      " |      Returns\n",
      " |      -------\n",
      " |      self : object\n",
      " |  \n",
      " |  partial_fit(self, X, y, classes=None, sample_weight=None)\n",
      " |      Incremental fit on a batch of samples.\n",
      " |      \n",
      " |      This method is expected to be called several times consecutively\n",
      " |      on different chunks of a dataset so as to implement out-of-core\n",
      " |      or online learning.\n",
      " |      \n",
      " |      This is especially useful when the whole dataset is too big to fit in\n",
      " |      memory at once.\n",
      " |      \n",
      " |      This method has some performance and numerical stability overhead,\n",
      " |      hence it is better to call partial_fit on chunks of data that are\n",
      " |      as large as possible (as long as fitting in the memory budget) to\n",
      " |      hide the overhead.\n",
      " |      \n",
      " |      Parameters\n",
      " |      ----------\n",
      " |      X : array-like, shape (n_samples, n_features)\n",
      " |          Training vectors, where n_samples is the number of samples and\n",
      " |          n_features is the number of features.\n",
      " |      \n",
      " |      y : array-like, shape (n_samples,)\n",
      " |          Target values.\n",
      " |      \n",
      " |      classes : array-like, shape (n_classes,), optional (default=None)\n",
      " |          List of all the classes that can possibly appear in the y vector.\n",
      " |      \n",
      " |          Must be provided at the first call to partial_fit, can be omitted\n",
      " |          in subsequent calls.\n",
      " |      \n",
      " |      sample_weight : array-like, shape (n_samples,), optional (default=None)\n",
      " |          Weights applied to individual samples (1. for unweighted).\n",
      " |      \n",
      " |          .. versionadded:: 0.17\n",
      " |      \n",
      " |      Returns\n",
      " |      -------\n",
      " |      self : object\n",
      " |  \n",
      " |  ----------------------------------------------------------------------\n",
      " |  Data and other attributes defined here:\n",
      " |  \n",
      " |  __abstractmethods__ = frozenset()\n",
      " |  \n",
      " |  ----------------------------------------------------------------------\n",
      " |  Methods inherited from BaseNB:\n",
      " |  \n",
      " |  predict(self, X)\n",
      " |      Perform classification on an array of test vectors X.\n",
      " |      \n",
      " |      Parameters\n",
      " |      ----------\n",
      " |      X : array-like, shape = [n_samples, n_features]\n",
      " |      \n",
      " |      Returns\n",
      " |      -------\n",
      " |      C : array, shape = [n_samples]\n",
      " |          Predicted target values for X\n",
      " |  \n",
      " |  predict_log_proba(self, X)\n",
      " |      Return log-probability estimates for the test vector X.\n",
      " |      \n",
      " |      Parameters\n",
      " |      ----------\n",
      " |      X : array-like, shape = [n_samples, n_features]\n",
      " |      \n",
      " |      Returns\n",
      " |      -------\n",
      " |      C : array-like, shape = [n_samples, n_classes]\n",
      " |          Returns the log-probability of the samples for each class in\n",
      " |          the model. The columns correspond to the classes in sorted\n",
      " |          order, as they appear in the attribute `classes_`.\n",
      " |  \n",
      " |  predict_proba(self, X)\n",
      " |      Return probability estimates for the test vector X.\n",
      " |      \n",
      " |      Parameters\n",
      " |      ----------\n",
      " |      X : array-like, shape = [n_samples, n_features]\n",
      " |      \n",
      " |      Returns\n",
      " |      -------\n",
      " |      C : array-like, shape = [n_samples, n_classes]\n",
      " |          Returns the probability of the samples for each class in\n",
      " |          the model. The columns correspond to the classes in sorted\n",
      " |          order, as they appear in the attribute `classes_`.\n",
      " |  \n",
      " |  ----------------------------------------------------------------------\n",
      " |  Methods inherited from sklearn.base.BaseEstimator:\n",
      " |  \n",
      " |  __getstate__(self)\n",
      " |  \n",
      " |  __repr__(self, N_CHAR_MAX=700)\n",
      " |      Return repr(self).\n",
      " |  \n",
      " |  __setstate__(self, state)\n",
      " |  \n",
      " |  get_params(self, deep=True)\n",
      " |      Get parameters for this estimator.\n",
      " |      \n",
      " |      Parameters\n",
      " |      ----------\n",
      " |      deep : boolean, optional\n",
      " |          If True, will return the parameters for this estimator and\n",
      " |          contained subobjects that are estimators.\n",
      " |      \n",
      " |      Returns\n",
      " |      -------\n",
      " |      params : mapping of string to any\n",
      " |          Parameter names mapped to their values.\n",
      " |  \n",
      " |  set_params(self, **params)\n",
      " |      Set the parameters of this estimator.\n",
      " |      \n",
      " |      The method works on simple estimators as well as on nested objects\n",
      " |      (such as pipelines). The latter have parameters of the form\n",
      " |      ``<component>__<parameter>`` so that it's possible to update each\n",
      " |      component of a nested object.\n",
      " |      \n",
      " |      Returns\n",
      " |      -------\n",
      " |      self\n",
      " |  \n",
      " |  ----------------------------------------------------------------------\n",
      " |  Data descriptors inherited from sklearn.base.BaseEstimator:\n",
      " |  \n",
      " |  __dict__\n",
      " |      dictionary for instance variables (if defined)\n",
      " |  \n",
      " |  __weakref__\n",
      " |      list of weak references to the object (if defined)\n",
      " |  \n",
      " |  ----------------------------------------------------------------------\n",
      " |  Methods inherited from sklearn.base.ClassifierMixin:\n",
      " |  \n",
      " |  score(self, X, y, sample_weight=None)\n",
      " |      Returns the mean accuracy on the given test data and labels.\n",
      " |      \n",
      " |      In multi-label classification, this is the subset accuracy\n",
      " |      which is a harsh metric since you require for each sample that\n",
      " |      each label set be correctly predicted.\n",
      " |      \n",
      " |      Parameters\n",
      " |      ----------\n",
      " |      X : array-like, shape = (n_samples, n_features)\n",
      " |          Test samples.\n",
      " |      \n",
      " |      y : array-like, shape = (n_samples) or (n_samples, n_outputs)\n",
      " |          True labels for X.\n",
      " |      \n",
      " |      sample_weight : array-like, shape = [n_samples], optional\n",
      " |          Sample weights.\n",
      " |      \n",
      " |      Returns\n",
      " |      -------\n",
      " |      score : float\n",
      " |          Mean accuracy of self.predict(X) wrt. y.\n",
      "\n"
     ]
    }
   ],
   "source": [
    "help(GaussianNB())"
   ]
  },
  {
   "cell_type": "code",
   "execution_count": 4,
   "metadata": {},
   "outputs": [],
   "source": [
    "iris_attributes, iris_classes = load_iris(return_X_y=True)"
   ]
  },
  {
   "cell_type": "markdown",
   "metadata": {},
   "source": [
    "These lines load an untrained naive Bayes classification model, and stores the untrained model into a variable, before fitting it to our data using the equations provided in the powerpoint."
   ]
  },
  {
   "cell_type": "code",
   "execution_count": 5,
   "metadata": {},
   "outputs": [
    {
     "data": {
      "text/plain": [
       "GaussianNB(priors=None, var_smoothing=1e-09)"
      ]
     },
     "execution_count": 5,
     "metadata": {},
     "output_type": "execute_result"
    }
   ],
   "source": [
    "model = GaussianNB()\n",
    "model.fit(iris_attributes,iris_classes)"
   ]
  },
  {
   "cell_type": "markdown",
   "metadata": {},
   "source": [
    "We can then make predictions for irises between x and y, however, this isn't really a valid test because the algorithm has already \"seen\" the correct answers to all of the questions that we have to ask it.\n",
    "\n",
    "Note, however that even though the model should \"know better\", observation 52 is still predicted to be the wrong species"
   ]
  },
  {
   "cell_type": "code",
   "execution_count": 6,
   "metadata": {},
   "outputs": [
    {
     "name": "stdout",
     "output_type": "stream",
     "text": [
      "[1 1 2 1 1]\n",
      "[1 1 1 1 1]\n"
     ]
    }
   ],
   "source": [
    "print(model.predict(iris_attributes[50:55]))\n",
    "print(iris_classes[50:55])"
   ]
  },
  {
   "cell_type": "markdown",
   "metadata": {},
   "source": [
    "We should initialize a classifier and properly train it using a proper train test split algorithm.\n",
    "\n",
    "Please note that you can artificially train a more accurate classifier by training repeatedly on different train-test splits, but doing so for real research tends to be frowned upon, as it is considered to be similar to p-hacking or overfitting the data."
   ]
  },
  {
   "cell_type": "code",
   "execution_count": 7,
   "metadata": {},
   "outputs": [],
   "source": [
    "model_split = GaussianNB()"
   ]
  },
  {
   "cell_type": "code",
   "execution_count": 8,
   "metadata": {},
   "outputs": [],
   "source": [
    "attributes_train, attributes_test, classes_train, classes_test = train_test_split(iris_attributes, iris_classes, test_size=0.2, random_state=50)"
   ]
  },
  {
   "cell_type": "code",
   "execution_count": 19,
   "metadata": {},
   "outputs": [
    {
     "name": "stdout",
     "output_type": "stream",
     "text": [
      "[[7.2 3.2 6.  1.8]\n",
      " [5.1 2.5 3.  1.1]\n",
      " [6.1 2.8 4.7 1.2]\n",
      " [6.7 3.3 5.7 2.5]\n",
      " [5.1 3.7 1.5 0.4]\n",
      " [4.6 3.1 1.5 0.2]\n",
      " [5.2 2.7 3.9 1.4]\n",
      " [6.  2.2 5.  1.5]\n",
      " [5.4 3.  4.5 1.5]\n",
      " [5.  3.4 1.5 0.2]\n",
      " [4.5 2.3 1.3 0.3]\n",
      " [4.9 2.4 3.3 1. ]\n",
      " [6.5 3.  5.8 2.2]\n",
      " [4.4 2.9 1.4 0.2]\n",
      " [7.1 3.  5.9 2.1]\n",
      " [5.1 3.5 1.4 0.3]\n",
      " [4.4 3.2 1.3 0.2]\n",
      " [5.7 3.8 1.7 0.3]\n",
      " [6.3 2.5 5.  1.9]\n",
      " [5.8 2.8 5.1 2.4]\n",
      " [6.6 3.  4.4 1.4]\n",
      " [5.4 3.9 1.7 0.4]\n",
      " [5.7 4.4 1.5 0.4]\n",
      " [6.1 2.9 4.7 1.4]\n",
      " [5.8 2.7 5.1 1.9]\n",
      " [5.7 2.8 4.1 1.3]\n",
      " [7.  3.2 4.7 1.4]\n",
      " [5.2 3.5 1.5 0.2]\n",
      " [4.4 3.  1.3 0.2]\n",
      " [7.7 2.8 6.7 2. ]\n",
      " [7.7 3.8 6.7 2.2]\n",
      " [6.4 2.9 4.3 1.3]\n",
      " [6.3 2.9 5.6 1.8]\n",
      " [5.  3.5 1.3 0.3]\n",
      " [4.9 3.6 1.4 0.1]\n",
      " [6.5 3.  5.5 1.8]\n",
      " [6.  2.9 4.5 1.5]\n",
      " [5.  3.6 1.4 0.2]\n",
      " [5.5 2.3 4.  1.3]\n",
      " [5.1 3.8 1.9 0.4]\n",
      " [7.3 2.9 6.3 1.8]\n",
      " [6.4 3.1 5.5 1.8]\n",
      " [6.7 3.1 4.4 1.4]\n",
      " [6.4 2.8 5.6 2.1]\n",
      " [5.6 2.5 3.9 1.1]\n",
      " [4.6 3.2 1.4 0.2]\n",
      " [6.3 2.3 4.4 1.3]\n",
      " [5.2 4.1 1.5 0.1]\n",
      " [5.5 2.5 4.  1.3]\n",
      " [6.9 3.1 4.9 1.5]\n",
      " [4.7 3.2 1.6 0.2]\n",
      " [4.9 3.1 1.5 0.1]\n",
      " [5.9 3.  4.2 1.5]\n",
      " [4.9 3.  1.4 0.2]\n",
      " [6.  2.7 5.1 1.6]\n",
      " [4.8 3.  1.4 0.3]\n",
      " [5.5 2.6 4.4 1.2]\n",
      " [6.1 3.  4.9 1.8]\n",
      " [7.2 3.  5.8 1.6]\n",
      " [7.7 3.  6.1 2.3]\n",
      " [6.6 2.9 4.6 1.3]\n",
      " [6.3 2.7 4.9 1.8]\n",
      " [5.5 3.5 1.3 0.2]\n",
      " [5.8 2.7 5.1 1.9]\n",
      " [4.3 3.  1.1 0.1]\n",
      " [6.  2.2 4.  1. ]\n",
      " [5.1 3.8 1.6 0.2]\n",
      " [6.3 3.4 5.6 2.4]\n",
      " [4.8 3.4 1.9 0.2]\n",
      " [5.2 3.4 1.4 0.2]\n",
      " [6.  3.  4.8 1.8]\n",
      " [5.9 3.  5.1 1.8]\n",
      " [6.9 3.2 5.7 2.3]\n",
      " [6.7 3.3 5.7 2.1]\n",
      " [4.8 3.4 1.6 0.2]\n",
      " [6.2 3.4 5.4 2.3]\n",
      " [5.6 2.7 4.2 1.3]\n",
      " [6.7 2.5 5.8 1.8]\n",
      " [5.  2.3 3.3 1. ]\n",
      " [5.1 3.5 1.4 0.2]\n",
      " [6.4 3.2 4.5 1.5]\n",
      " [6.5 3.2 5.1 2. ]\n",
      " [5.4 3.7 1.5 0.2]\n",
      " [6.2 2.8 4.8 1.8]\n",
      " [5.8 2.7 4.1 1. ]\n",
      " [5.7 2.9 4.2 1.3]\n",
      " [6.8 2.8 4.8 1.4]\n",
      " [5.6 3.  4.5 1.5]\n",
      " [5.6 2.8 4.9 2. ]\n",
      " [5.  2.  3.5 1. ]\n",
      " [5.  3.4 1.6 0.4]\n",
      " [6.4 3.2 5.3 2.3]\n",
      " [5.  3.2 1.2 0.2]\n",
      " [7.6 3.  6.6 2.1]\n",
      " [4.8 3.1 1.6 0.2]\n",
      " [5.7 2.6 3.5 1. ]\n",
      " [6.9 3.1 5.1 2.3]\n",
      " [5.1 3.8 1.5 0.3]\n",
      " [4.6 3.4 1.4 0.3]\n",
      " [5.6 2.9 3.6 1.3]\n",
      " [4.9 2.5 4.5 1.7]\n",
      " [6.  3.4 4.5 1.6]\n",
      " [5.  3.3 1.4 0.2]\n",
      " [5.4 3.4 1.5 0.4]\n",
      " [5.  3.5 1.6 0.6]\n",
      " [6.1 2.6 5.6 1.4]\n",
      " [6.1 3.  4.6 1.4]\n",
      " [5.8 2.6 4.  1.2]\n",
      " [6.4 2.7 5.3 1.9]\n",
      " [6.1 2.8 4.  1.3]\n",
      " [5.7 3.  4.2 1.2]\n",
      " [4.7 3.2 1.3 0.2]\n",
      " [6.3 2.8 5.1 1.5]\n",
      " [4.6 3.6 1.  0.2]\n",
      " [6.7 3.  5.2 2.3]\n",
      " [5.9 3.2 4.8 1.8]\n",
      " [6.4 2.8 5.6 2.2]\n",
      " [5.5 4.2 1.4 0.2]\n",
      " [7.2 3.6 6.1 2.5]\n",
      " [6.9 3.1 5.4 2.1]]\n"
     ]
    }
   ],
   "source": [
    "print(attributes_train)"
   ]
  },
  {
   "cell_type": "code",
   "execution_count": 9,
   "metadata": {},
   "outputs": [
    {
     "data": {
      "text/plain": [
       "GaussianNB(priors=None, var_smoothing=1e-09)"
      ]
     },
     "execution_count": 9,
     "metadata": {},
     "output_type": "execute_result"
    }
   ],
   "source": [
    "model_split.fit(attributes_train,classes_train)"
   ]
  },
  {
   "cell_type": "markdown",
   "metadata": {},
   "source": [
    "Now we can have the model make predictions on data that it's never seen before and save them to a variable to check how it did!"
   ]
  },
  {
   "cell_type": "code",
   "execution_count": 10,
   "metadata": {},
   "outputs": [],
   "source": [
    "predictions = model_split.predict(attributes_test)"
   ]
  },
  {
   "cell_type": "markdown",
   "metadata": {},
   "source": [
    "Finally, we test our model, if predictions match the known categories, we should be able to rely on these predictions "
   ]
  },
  {
   "cell_type": "code",
   "execution_count": 11,
   "metadata": {},
   "outputs": [
    {
     "name": "stdout",
     "output_type": "stream",
     "text": [
      "[1 1 0 0 2 2 2 0 0 1 0 2 0 2 1 0 1 0 1 2 2 1 0 2 1 2 2 1 1 2]\n",
      "[1 1 0 0 2 2 2 0 0 1 0 2 0 2 1 0 1 0 1 1 2 1 0 2 1 2 1 1 1 2]\n"
     ]
    }
   ],
   "source": [
    "print(predictions)\n",
    "print(classes_test)"
   ]
  },
  {
   "cell_type": "markdown",
   "metadata": {},
   "source": [
    "Further validation, if it prints all 0's, the model is 100% accurate!"
   ]
  },
  {
   "cell_type": "code",
   "execution_count": 12,
   "metadata": {},
   "outputs": [
    {
     "name": "stdout",
     "output_type": "stream",
     "text": [
      "[0 0 0 0 0 0 0 0 0 0 0 0 0 0 0 0 0 0 0 1 0 0 0 0 0 0 1 0 0 0]\n"
     ]
    }
   ],
   "source": [
    "diffs = predictions - classes_test\n",
    "print(diffs)"
   ]
  },
  {
   "cell_type": "code",
   "execution_count": 80,
   "metadata": {},
   "outputs": [
    {
     "name": "stdout",
     "output_type": "stream",
     "text": [
      "[[7.2]\n",
      " [5.1]\n",
      " [6.1]\n",
      " [6.7]\n",
      " [5.1]\n",
      " [4.6]\n",
      " [5.2]\n",
      " [6. ]\n",
      " [5.4]\n",
      " [5. ]\n",
      " [4.5]\n",
      " [4.9]\n",
      " [6.5]\n",
      " [4.4]\n",
      " [7.1]\n",
      " [5.1]\n",
      " [4.4]\n",
      " [5.7]\n",
      " [6.3]\n",
      " [5.8]\n",
      " [6.6]\n",
      " [5.4]\n",
      " [5.7]\n",
      " [6.1]\n",
      " [5.8]\n",
      " [5.7]\n",
      " [7. ]\n",
      " [5.2]\n",
      " [4.4]\n",
      " [7.7]\n",
      " [7.7]\n",
      " [6.4]\n",
      " [6.3]\n",
      " [5. ]\n",
      " [4.9]\n",
      " [6.5]\n",
      " [6. ]\n",
      " [5. ]\n",
      " [5.5]\n",
      " [5.1]\n",
      " [7.3]\n",
      " [6.4]\n",
      " [6.7]\n",
      " [6.4]\n",
      " [5.6]\n",
      " [4.6]\n",
      " [6.3]\n",
      " [5.2]\n",
      " [5.5]\n",
      " [6.9]\n",
      " [4.7]\n",
      " [4.9]\n",
      " [5.9]\n",
      " [4.9]\n",
      " [6. ]\n",
      " [4.8]\n",
      " [5.5]\n",
      " [6.1]\n",
      " [7.2]\n",
      " [7.7]\n",
      " [6.6]\n",
      " [6.3]\n",
      " [5.5]\n",
      " [5.8]\n",
      " [4.3]\n",
      " [6. ]\n",
      " [5.1]\n",
      " [6.3]\n",
      " [4.8]\n",
      " [5.2]\n",
      " [6. ]\n",
      " [5.9]\n",
      " [6.9]\n",
      " [6.7]\n",
      " [4.8]\n",
      " [6.2]\n",
      " [5.6]\n",
      " [6.7]\n",
      " [5. ]\n",
      " [5.1]\n",
      " [6.4]\n",
      " [6.5]\n",
      " [5.4]\n",
      " [6.2]\n",
      " [5.8]\n",
      " [5.7]\n",
      " [6.8]\n",
      " [5.6]\n",
      " [5.6]\n",
      " [5. ]\n",
      " [5. ]\n",
      " [6.4]\n",
      " [5. ]\n",
      " [7.6]\n",
      " [4.8]\n",
      " [5.7]\n",
      " [6.9]\n",
      " [5.1]\n",
      " [4.6]\n",
      " [5.6]\n",
      " [4.9]\n",
      " [6. ]\n",
      " [5. ]\n",
      " [5.4]\n",
      " [5. ]\n",
      " [6.1]\n",
      " [6.1]\n",
      " [5.8]\n",
      " [6.4]\n",
      " [6.1]\n",
      " [5.7]\n",
      " [4.7]\n",
      " [6.3]\n",
      " [4.6]\n",
      " [6.7]\n",
      " [5.9]\n",
      " [6.4]\n",
      " [5.5]\n",
      " [7.2]\n",
      " [6.9]]\n"
     ]
    }
   ],
   "source": [
    "partial_training_set = attributes_train[:,0:1]\n",
    "print(partial_training_set)"
   ]
  },
  {
   "cell_type": "code",
   "execution_count": 81,
   "metadata": {},
   "outputs": [],
   "source": [
    "partial_model = GaussianNB()"
   ]
  },
  {
   "cell_type": "code",
   "execution_count": 82,
   "metadata": {},
   "outputs": [
    {
     "data": {
      "text/plain": [
       "GaussianNB(priors=None, var_smoothing=1e-09)"
      ]
     },
     "execution_count": 82,
     "metadata": {},
     "output_type": "execute_result"
    }
   ],
   "source": [
    "partial_model.fit(partial_training_set,classes_train)"
   ]
  },
  {
   "cell_type": "code",
   "execution_count": 84,
   "metadata": {},
   "outputs": [
    {
     "name": "stdout",
     "output_type": "stream",
     "text": [
      "[1 1 2 2 1 1 1 1 2 1 2 2 2 1 1 2 1 2 1 1 1 1 2 2 1 2 1 1 1 1]\n",
      "[1 1 0 0 2 2 2 0 0 1 0 2 0 2 1 0 1 0 1 1 2 1 0 2 1 2 1 1 1 2]\n",
      "[ 0  0  2  2 -1 -1 -1  1  2  0  2  0  2 -1  0  2  0  2  0  0 -1  0  2  0\n",
      "  0  0  0  0  0 -1]\n",
      "Errors:  11\n"
     ]
    }
   ],
   "source": [
    "predictions = partial_model.predict(attributes_test)\n",
    "print(predictions)\n",
    "print(classes_test)\n",
    "diffs = predictions - classes_test\n",
    "print(diffs)\n",
    "print(\"Errors: \", sum(diffs))"
   ]
  },
  {
   "cell_type": "code",
   "execution_count": null,
   "metadata": {},
   "outputs": [],
   "source": []
  },
  {
   "cell_type": "code",
   "execution_count": null,
   "metadata": {},
   "outputs": [],
   "source": []
  }
 ],
 "metadata": {
  "kernelspec": {
   "display_name": "Python 3",
   "language": "python",
   "name": "python3"
  },
  "language_info": {
   "codemirror_mode": {
    "name": "ipython",
    "version": 3
   },
   "file_extension": ".py",
   "mimetype": "text/x-python",
   "name": "python",
   "nbconvert_exporter": "python",
   "pygments_lexer": "ipython3",
   "version": "3.7.3"
  }
 },
 "nbformat": 4,
 "nbformat_minor": 4
}
