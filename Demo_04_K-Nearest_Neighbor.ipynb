{
 "cells": [
  {
   "cell_type": "markdown",
   "metadata": {},
   "source": [
    "# K-Nearest Neighbour\n",
    "\n",
    "This notebook is to work with K-nearest neighbors"
   ]
  },
  {
   "cell_type": "code",
   "execution_count": 1,
   "metadata": {},
   "outputs": [],
   "source": [
    "from sklearn.datasets import load_iris\n",
    "from sklearn.neighbors import KNeighborsClassifier\n",
    "from sklearn.model_selection import train_test_split\n",
    "iris_attributes, iris_classes = load_iris(return_X_y=True)\n",
    "attributes_train, attributes_test, classes_train, classes_test = train_test_split(iris_attributes, iris_classes, test_size=0.2, random_state=50)"
   ]
  },
  {
   "cell_type": "markdown",
   "metadata": {},
   "source": [
    "Define Model, and choose the number of neighbors to inspect"
   ]
  },
  {
   "cell_type": "code",
   "execution_count": 2,
   "metadata": {},
   "outputs": [],
   "source": [
    "Five_Neighbors = KNeighborsClassifier(n_neighbors=5)"
   ]
  },
  {
   "cell_type": "code",
   "execution_count": 3,
   "metadata": {},
   "outputs": [
    {
     "data": {
      "text/plain": [
       "KNeighborsClassifier(algorithm='auto', leaf_size=30, metric='minkowski',\n",
       "                     metric_params=None, n_jobs=None, n_neighbors=5, p=2,\n",
       "                     weights='uniform')"
      ]
     },
     "execution_count": 3,
     "metadata": {},
     "output_type": "execute_result"
    }
   ],
   "source": [
    "Five_Neighbors.fit(attributes_train, classes_train)"
   ]
  },
  {
   "cell_type": "code",
   "execution_count": 19,
   "metadata": {},
   "outputs": [
    {
     "name": "stdout",
     "output_type": "stream",
     "text": [
      "[1 2 0 0 2 2 2 0 0 2 0 2 0 2 1 0 1 0 1 2 2 1 0 2 1 2 1 1 1 2]\n",
      "[1 1 0 0 2 2 2 0 0 1 0 2 0 2 1 0 1 0 1 1 2 1 0 2 1 2 1 1 1 2]\n",
      "Errors: 3\n"
     ]
    }
   ],
   "source": [
    "print(Five_Neighbors.predict(attributes_test))\n",
    "print(classes_test)\n",
    "print(\"Errors:\", sum(Five_Neighbors.predict(attributes_test)-classes_test))"
   ]
  },
  {
   "cell_type": "code",
   "execution_count": 20,
   "metadata": {},
   "outputs": [
    {
     "name": "stdout",
     "output_type": "stream",
     "text": [
      "[1 2 0 0 2 2 2 0 0 2 0 2 0 2 1 0 1 0 1 2 2 1 0 2 1 2 1 1 1 2]\n",
      "[1 1 0 0 2 2 2 0 0 1 0 2 0 2 1 0 1 0 1 1 2 1 0 2 1 2 1 1 1 2]\n",
      "Errors: 3\n"
     ]
    }
   ],
   "source": [
    "Seven_Neighbors = KNeighborsClassifier(n_neighbors=7)\n",
    "Seven_Neighbors.fit(attributes_train, classes_train)\n",
    "print(Seven_Neighbors.predict(attributes_test))\n",
    "print(classes_test)\n",
    "print(\"Errors:\", sum(Seven_Neighbors.predict(attributes_test)-classes_test))"
   ]
  },
  {
   "cell_type": "code",
   "execution_count": 21,
   "metadata": {},
   "outputs": [
    {
     "name": "stdout",
     "output_type": "stream",
     "text": [
      "[1 2 0 0 2 2 2 0 0 1 0 2 0 2 1 0 1 0 1 1 2 1 0 2 1 2 1 1 1 2]\n",
      "[1 1 0 0 2 2 2 0 0 1 0 2 0 2 1 0 1 0 1 1 2 1 0 2 1 2 1 1 1 2]\n",
      "Errors: 1\n"
     ]
    }
   ],
   "source": [
    "Three_Neighbors = KNeighborsClassifier(n_neighbors=3)\n",
    "Three_Neighbors.fit(attributes_train, classes_train)\n",
    "print(Three_Neighbors.predict(attributes_test))\n",
    "print(classes_test)\n",
    "print(\"Errors:\", sum(Three_Neighbors.predict(attributes_test)-classes_test))"
   ]
  },
  {
   "cell_type": "code",
   "execution_count": 22,
   "metadata": {},
   "outputs": [
    {
     "name": "stdout",
     "output_type": "stream",
     "text": [
      "[1 2 0 0 2 2 2 0 0 1 0 2 0 2 1 0 1 0 1 2 2 1 0 2 1 2 1 1 1 2]\n",
      "[1 1 0 0 2 2 2 0 0 1 0 2 0 2 1 0 1 0 1 1 2 1 0 2 1 2 1 1 1 2]\n",
      "Errors: 2\n"
     ]
    }
   ],
   "source": [
    "Too_Many_Neighbors = KNeighborsClassifier(n_neighbors=17)\n",
    "Too_Many_Neighbors.fit(attributes_train, classes_train)\n",
    "print(Too_Many_Neighbors.predict(attributes_test))\n",
    "print(classes_test)\n",
    "print(\"Errors:\", sum(Too_Many_Neighbors.predict(attributes_test)-classes_test))"
   ]
  },
  {
   "cell_type": "code",
   "execution_count": 7,
   "metadata": {},
   "outputs": [],
   "source": [
    "import matplotlib.pyplot as plt\n",
    "import numpy as np"
   ]
  },
  {
   "cell_type": "code",
   "execution_count": 8,
   "metadata": {},
   "outputs": [
    {
     "data": {
      "text/plain": [
       "<function matplotlib.pyplot.show(*args, **kw)>"
      ]
     },
     "execution_count": 8,
     "metadata": {},
     "output_type": "execute_result"
    },
    {
     "data": {
      "image/png": "[encoded data removed]",
      "text/plain": [
       "<Figure size 432x288 with 1 Axes>"
      ]
     },
     "metadata": {
      "needs_background": "light"
     },
     "output_type": "display_data"
    }
   ],
   "source": [
    "iris0 = (iris_attributes[0:50,0], iris_attributes[0:50,1])\n",
    "iris1 = (iris_attributes[51:100,0], iris_attributes[51:100,1])\n",
    "iris2 = (iris_attributes[101:150,0], iris_attributes[101:150,1])\n",
    "\n",
    "fig = plt.figure()\n",
    "ax = fig.add_subplot(1,1,1)\n",
    "\n",
    "data = (iris0, iris1, iris2)\n",
    "colors = ('purple', 'pink', 'blue')\n",
    "groups = ('0','1','2')\n",
    "\n",
    "for data, color, group in zip(data, colors, groups):\n",
    "    x,y = data\n",
    "    ax.scatter(x, y, alpha=0.8, c=color, label=group)\n",
    "    \n",
    "plt.title(\"1. sepal length in cm vs classification\")\n",
    "plt.xlabel(\"Sepal_length\")\n",
    "plt.ylabel(\"Sepal_width\")\n",
    "\n",
    "plt.show"
   ]
  },
  {
   "cell_type": "code",
   "execution_count": 9,
   "metadata": {},
   "outputs": [
    {
     "data": {
      "text/plain": [
       "<function matplotlib.pyplot.show(*args, **kw)>"
      ]
     },
     "execution_count": 9,
     "metadata": {},
     "output_type": "execute_result"
    },
    {
     "data": {
      "image/png": "[encoded data removed]",
      "text/plain": [
       "<Figure size 432x288 with 1 Axes>"
      ]
     },
     "metadata": {
      "needs_background": "light"
     },
     "output_type": "display_data"
    }
   ],
   "source": [
    "iris0 = (iris_attributes[0:50,2], iris_attributes[0:50,3])\n",
    "iris1 = (iris_attributes[51:100,2], iris_attributes[51:100,3])\n",
    "iris2 = (iris_attributes[101:150,2], iris_attributes[101:150,3])\n",
    "\n",
    "fig = plt.figure()\n",
    "ax = fig.add_subplot(1,1,1)\n",
    "\n",
    "data = (iris0, iris1, iris2)\n",
    "colors = ('purple', 'pink', 'blue')\n",
    "groups = ('0','1','2')\n",
    "\n",
    "for data, color, group in zip(data, colors, groups):\n",
    "    x,y = data\n",
    "    ax.scatter(x, y, alpha=0.8, c=color, label=group)\n",
    "    \n",
    "plt.title(\"1. sepal length in cm vs classification\")\n",
    "plt.xlabel(\"Petal_length\")\n",
    "plt.ylabel(\"Petal_width\")\n",
    "\n",
    "plt.show"
   ]
  }
 ],
 "metadata": {
  "kernelspec": {
   "display_name": "Python 3",
   "language": "python",
   "name": "python3"
  },
  "language_info": {
   "codemirror_mode": {
    "name": "ipython",
    "version": 3
   },
   "file_extension": ".py",
   "mimetype": "text/x-python",
   "name": "python",
   "nbconvert_exporter": "python",
   "pygments_lexer": "ipython3",
   "version": "3.7.3"
  }
 },
 "nbformat": 4,
 "nbformat_minor": 4
}
