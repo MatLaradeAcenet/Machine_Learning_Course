{
 "cells": [
  {
   "cell_type": "markdown",
   "metadata": {},
   "source": [
    "# Support Vector Machines\n",
    "For this module, we need to do some pre-processing of the data, so that we can separate it using a support vector machine"
   ]
  },
  {
   "cell_type": "code",
   "execution_count": 1,
   "metadata": {},
   "outputs": [],
   "source": [
    "from sklearn.datasets import load_iris\n",
    "from sklearn.svm import SVC\n",
    "from sklearn.model_selection import train_test_split\n",
    "iris_attributes, iris_classes = load_iris(return_X_y=True)\n",
    "import numpy as np"
   ]
  },
  {
   "cell_type": "markdown",
   "metadata": {},
   "source": [
    "Since support vector machines can only separate two groups of variables, we need to condense 3 variables into 2.  We will do this for every combination of variables, then have each SVM vote on what the classification of the unknown iris."
   ]
  },
  {
   "cell_type": "code",
   "execution_count": 2,
   "metadata": {},
   "outputs": [
    {
     "name": "stdout",
     "output_type": "stream",
     "text": [
      "[False False False False False False False False False False False False\n",
      " False False False False False False False False False False False False\n",
      " False False False False False False False False False False False False\n",
      " False False False False False False False False False False False False\n",
      " False False  True  True  True  True  True  True  True  True  True  True\n",
      "  True  True  True  True  True  True  True  True  True  True  True  True\n",
      "  True  True  True  True  True  True  True  True  True  True  True  True\n",
      "  True  True  True  True  True  True  True  True  True  True  True  True\n",
      "  True  True  True  True  True  True  True  True  True  True  True  True\n",
      "  True  True  True  True  True  True  True  True  True  True  True  True\n",
      "  True  True  True  True  True  True  True  True  True  True  True  True\n",
      "  True  True  True  True  True  True  True  True  True  True  True  True\n",
      "  True  True  True  True  True  True]\n"
     ]
    }
   ],
   "source": [
    "classes_not_0 = iris_classes != 0\n",
    "print(classes_not_0)"
   ]
  },
  {
   "cell_type": "code",
   "execution_count": 3,
   "metadata": {},
   "outputs": [
    {
     "name": "stdout",
     "output_type": "stream",
     "text": [
      "[ True  True  True  True  True  True  True  True  True  True  True  True\n",
      "  True  True  True  True  True  True  True  True  True  True  True  True\n",
      "  True  True  True  True  True  True  True  True  True  True  True  True\n",
      "  True  True  True  True  True  True  True  True  True  True  True  True\n",
      "  True  True False False False False False False False False False False\n",
      " False False False False False False False False False False False False\n",
      " False False False False False False False False False False False False\n",
      " False False False False False False False False False False False False\n",
      " False False False False  True  True  True  True  True  True  True  True\n",
      "  True  True  True  True  True  True  True  True  True  True  True  True\n",
      "  True  True  True  True  True  True  True  True  True  True  True  True\n",
      "  True  True  True  True  True  True  True  True  True  True  True  True\n",
      "  True  True  True  True  True  True]\n"
     ]
    }
   ],
   "source": [
    "classes_not_1 = iris_classes != 1\n",
    "print(classes_not_1)"
   ]
  },
  {
   "cell_type": "code",
   "execution_count": 4,
   "metadata": {},
   "outputs": [
    {
     "name": "stdout",
     "output_type": "stream",
     "text": [
      "[ True  True  True  True  True  True  True  True  True  True  True  True\n",
      "  True  True  True  True  True  True  True  True  True  True  True  True\n",
      "  True  True  True  True  True  True  True  True  True  True  True  True\n",
      "  True  True  True  True  True  True  True  True  True  True  True  True\n",
      "  True  True  True  True  True  True  True  True  True  True  True  True\n",
      "  True  True  True  True  True  True  True  True  True  True  True  True\n",
      "  True  True  True  True  True  True  True  True  True  True  True  True\n",
      "  True  True  True  True  True  True  True  True  True  True  True  True\n",
      "  True  True  True  True False False False False False False False False\n",
      " False False False False False False False False False False False False\n",
      " False False False False False False False False False False False False\n",
      " False False False False False False False False False False False False\n",
      " False False False False False False]\n"
     ]
    }
   ],
   "source": [
    "classes_not_2 = iris_classes != 2\n",
    "print(classes_not_2)"
   ]
  },
  {
   "cell_type": "code",
   "execution_count": 5,
   "metadata": {},
   "outputs": [],
   "source": [
    "attributes_train, attributes_test, classes_train, classes_test = train_test_split(iris_attributes, iris_classes, test_size=0.2, random_state=50)"
   ]
  },
  {
   "cell_type": "markdown",
   "metadata": {},
   "source": [
    "If all of the random states are the same, then all of these should split the same way.  This is important to verify, because if the split is not done correctly, then the model will make garbage predictions. Note that the test portion of the split is smaller because it improves readability in the notebook"
   ]
  },
  {
   "cell_type": "code",
   "execution_count": 9,
   "metadata": {},
   "outputs": [],
   "source": [
    "attributes_train_not_0, attributes_test_not_0, classes_train_not_0, classes_test_not_0 = train_test_split(iris_attributes, classes_not_0, test_size=0.075, random_state=50)\n",
    "attributes_train_not_1, attributes_test_not_1, classes_train_not_1, classes_test_not_1 = train_test_split(iris_attributes, classes_not_1, test_size=0.075, random_state=50)\n",
    "attributes_train_not_2, attributes_test_not_2, classes_train_not_2, classes_test_not_2 = train_test_split(iris_attributes, classes_not_2, test_size=0.075, random_state=50)"
   ]
  },
  {
   "cell_type": "code",
   "execution_count": 10,
   "metadata": {},
   "outputs": [
    {
     "name": "stdout",
     "output_type": "stream",
     "text": [
      "master, [1 1 0 0 2 2 2 0 0 1 0 2 0 2 1 0 1 0 1 1 2 1 0 2 1 2 1 1 1 2]\n",
      "Not_0,  [ True  True False False  True  True  True False False  True False  True]\n",
      "Not_1,  [False False  True  True  True  True  True  True  True False  True  True]\n",
      "Not_2,  [ True  True  True  True False False False  True  True  True  True False]\n"
     ]
    }
   ],
   "source": [
    "#Verify that everything worked as you expected it to\n",
    "print(\"master,\", classes_test)\n",
    "print('Not_0, ', classes_test_not_0)\n",
    "print('Not_1, ', classes_test_not_1)\n",
    "print('Not_2, ', classes_test_not_2)"
   ]
  },
  {
   "cell_type": "markdown",
   "metadata": {},
   "source": [
    "Now we train three SVM's to tell us what the sample is not"
   ]
  },
  {
   "cell_type": "code",
   "execution_count": 11,
   "metadata": {},
   "outputs": [],
   "source": [
    "SVMnot_0 = SVC(kernel='linear')\n",
    "SVMnot_1 = SVC(kernel='linear')\n",
    "SVMnot_2 = SVC(kernel='linear')"
   ]
  },
  {
   "cell_type": "code",
   "execution_count": 12,
   "metadata": {},
   "outputs": [
    {
     "data": {
      "text/plain": [
       "SVC(C=1.0, cache_size=200, class_weight=None, coef0=0.0,\n",
       "    decision_function_shape='ovr', degree=3, gamma='auto_deprecated',\n",
       "    kernel='linear', max_iter=-1, probability=False, random_state=None,\n",
       "    shrinking=True, tol=0.001, verbose=False)"
      ]
     },
     "execution_count": 12,
     "metadata": {},
     "output_type": "execute_result"
    }
   ],
   "source": [
    "SVMnot_0.fit(attributes_train_not_0, classes_train_not_0)\n",
    "SVMnot_1.fit(attributes_train_not_1, classes_train_not_1)\n",
    "SVMnot_2.fit(attributes_train_not_2, classes_train_not_2)"
   ]
  },
  {
   "cell_type": "code",
   "execution_count": 13,
   "metadata": {},
   "outputs": [],
   "source": [
    "#Run some data through the SVM's to test them\n",
    "outputnot_0 = SVMnot_0.predict(attributes_test_not_0)\n",
    "outputnot_1 = SVMnot_1.predict(attributes_test_not_1)\n",
    "outputnot_2 = SVMnot_2.predict(attributes_test_not_2)"
   ]
  },
  {
   "cell_type": "code",
   "execution_count": 16,
   "metadata": {},
   "outputs": [
    {
     "name": "stdout",
     "output_type": "stream",
     "text": [
      "not_0\n",
      "predictions [ True  True False False  True  True  True False False  True False  True]\n",
      "true_values [ True  True False False  True  True  True False False  True False  True]\n",
      "not_1\n",
      "predictions [ True False  True  True  True  True False  True  True False  True False]\n",
      "true_values [False False  True  True  True  True  True  True  True False  True  True]\n",
      "not_2\n",
      "predictions [ True False  True  True False False False  True  True  True  True False]\n",
      "true_values [ True  True  True  True False False False  True  True  True  True False]\n"
     ]
    }
   ],
   "source": [
    "#Print out the predictions of the svm's, then the true values\n",
    "print(\"not_0\")\n",
    "print(\"predictions\", outputnot_0)\n",
    "print(\"true_values\", classes_test_not_0)\n",
    "print(\"not_1\")\n",
    "print(\"predictions\", outputnot_1)\n",
    "print(\"true_values\", classes_test_not_1)\n",
    "print(\"not_2\")\n",
    "print(\"predictions\", outputnot_2)\n",
    "print(\"true_values\", classes_test_not_2)"
   ]
  },
  {
   "cell_type": "code",
   "execution_count": 12,
   "metadata": {},
   "outputs": [
    {
     "name": "stdout",
     "output_type": "stream",
     "text": [
      "0\n",
      "3\n",
      "1\n"
     ]
    }
   ],
   "source": [
    "print(np.sum(np.logical_xor(outputnot_0, classes_test_not_0)))\n",
    "print(np.sum(np.logical_xor(outputnot_1, classes_test_not_1)))\n",
    "print(np.sum(np.logical_xor(outputnot_2, classes_test_not_2)))"
   ]
  },
  {
   "cell_type": "code",
   "execution_count": 13,
   "metadata": {},
   "outputs": [
    {
     "name": "stdout",
     "output_type": "stream",
     "text": [
      "[1 1 0 0 2 2 2 0 0 1 0 2 0 2 1 0 1 0 1 1 2 1 0 2 1 2 1 1 1 2]\n"
     ]
    }
   ],
   "source": [
    "print(classes_test)"
   ]
  },
  {
   "cell_type": "code",
   "execution_count": 14,
   "metadata": {},
   "outputs": [],
   "source": [
    "#trying out different kernels\n",
    "SVM_RBF_not_0 = SVC(kernel='precomputed', gamma='scale')\n",
    "SVMnot_0.fit(attributes_train_not_0, classes_train_not_0)\n",
    "output_RBF_not_0 = SVMnot_0.predict(attributes_test_not_0)\n",
    "SVM_RBF_not_1 = SVC(kernel='precomputed', gamma='scale')\n",
    "SVMnot_1.fit(attributes_train_not_1, classes_train_not_1)\n",
    "output_RBF_not_1 = SVMnot_1.predict(attributes_test_not_1)\n",
    "SVM_RBF_not_2 = SVC(kernel='precomputed', gamma='scale')\n",
    "SVMnot_2.fit(attributes_train_not_2, classes_train_not_2)\n",
    "output_RBF_not_2 = SVMnot_2.predict(attributes_test_not_2)"
   ]
  },
  {
   "cell_type": "code",
   "execution_count": 15,
   "metadata": {},
   "outputs": [
    {
     "name": "stdout",
     "output_type": "stream",
     "text": [
      "not_0\n",
      "[ True  True False False  True  True  True False False  True False  True]\n",
      "[ True  True False False  True  True  True False False  True False  True]\n",
      "not_1\n",
      "[ True False  True  True  True  True False  True  True False  True False]\n",
      "[False False  True  True  True  True  True  True  True False  True  True]\n",
      "not_2\n",
      "[ True False  True  True False False False  True  True  True  True False]\n",
      "[ True  True  True  True False False False  True  True  True  True False]\n"
     ]
    }
   ],
   "source": [
    "print(\"not_0\")\n",
    "print(output_RBF_not_0)\n",
    "print(classes_test_not_0)\n",
    "print(\"not_1\")\n",
    "print(output_RBF_not_1)\n",
    "print(classes_test_not_1)\n",
    "print(\"not_2\")\n",
    "print(output_RBF_not_2)\n",
    "print(classes_test_not_2)"
   ]
  },
  {
   "cell_type": "code",
   "execution_count": 16,
   "metadata": {},
   "outputs": [
    {
     "name": "stdout",
     "output_type": "stream",
     "text": [
      "0\n",
      "3\n",
      "1\n"
     ]
    }
   ],
   "source": [
    "print(np.sum(np.logical_xor(output_RBF_not_0, classes_test_not_0)))\n",
    "print(np.sum(np.logical_xor(output_RBF_not_1, classes_test_not_1)))\n",
    "print(np.sum(np.logical_xor(output_RBF_not_2, classes_test_not_2)))"
   ]
  },
  {
   "cell_type": "code",
   "execution_count": null,
   "metadata": {},
   "outputs": [],
   "source": []
  }
 ],
 "metadata": {
  "kernelspec": {
   "display_name": "Python 3",
   "language": "python",
   "name": "python3"
  },
  "language_info": {
   "codemirror_mode": {
    "name": "ipython",
    "version": 3
   },
   "file_extension": ".py",
   "mimetype": "text/x-python",
   "name": "python",
   "nbconvert_exporter": "python",
   "pygments_lexer": "ipython3",
   "version": "3.7.3"
  }
 },
 "nbformat": 4,
 "nbformat_minor": 4
}
